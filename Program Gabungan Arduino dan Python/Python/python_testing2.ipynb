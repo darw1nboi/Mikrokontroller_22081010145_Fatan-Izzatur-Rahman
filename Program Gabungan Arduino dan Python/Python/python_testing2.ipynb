{
 "cells": [
  {
   "cell_type": "code",
   "execution_count": null,
   "metadata": {},
   "outputs": [],
   "source": [
    "import itclab\n",
    "import time\n",
    "\n",
    "# Connect to Arduino\n",
    "a = itclab.iTCLab()\n",
    "\n",
    "# Get Version\n",
    "print(a.version)\n",
    "\n",
    "# Turn LED on\n",
    "print('LED On')\n",
    "a.LED(100)\n",
    "\n",
    "# Taper LED off\n",
    "for i in range(100,-1,-10):\n",
    "    print('LED Power ' + str(i))\n",
    "    time.sleep(0.5)\n",
    "    a.LED(i)\n",
    "\n",
    "a.close()\n"
   ]
  }
 ],
 "metadata": {
  "language_info": {
   "name": "python"
  }
 },
 "nbformat": 4,
 "nbformat_minor": 2
}
